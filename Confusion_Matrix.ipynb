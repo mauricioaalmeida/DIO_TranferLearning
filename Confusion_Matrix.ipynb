{
  "cells": [
    {
      "cell_type": "markdown",
      "metadata": {
        "id": "view-in-github",
        "colab_type": "text"
      },
      "source": [
        "<a href=\"https://colab.research.google.com/github/mauricioaalmeida/DIO_TranferLearning/blob/main/Desafio_Redu%C3%A7%C3%A3o_Imagem_MAA.ipynb\" target=\"_parent\"><img src=\"https://colab.research.google.com/assets/colab-badge.svg\" alt=\"Open In Colab\"/></a>"
      ]
    },
    {
      "cell_type": "markdown",
      "source": [
        "# Projeto para redução de dimensionalidade em imagens\n",
        "\n",
        "Este Projeto foi realizado por Maurício André de Almeida como trabalho no curso de Redução de Dimensionalidade em Imagens para Redes Neurais na DIO.ME\n",
        "\n",
        "**Descrição do Desafio**\n",
        "\n",
        "Seguindo o exemplo do algoritmo de binarização apresentado em nossa última aula, realize a implementação em Python para transformar uma imagem colorida para níveis de cinza (0 a 255) e para binarizada (0 e 255), preto e branco.  \n",
        "\n",
        "Antes de rodar, carregue manualmente a imagem com o nome: Lenna.jpg"
      ],
      "metadata": {
        "id": "58Osxv62RYNF"
      }
    },
    {
      "cell_type": "code",
      "execution_count": 1,
      "metadata": {
        "id": "Nr2ZyMJk9bbn"
      },
      "outputs": [],
      "source": [
        "#!pip install tensorflow\n",
        "#!pip install seaborn"
      ]
    },
    {
      "cell_type": "code",
      "execution_count": 2,
      "metadata": {
        "colab": {
          "base_uri": "https://localhost:8080/"
        },
        "id": "9GOTUsN2vHZr",
        "outputId": "52b7de7d-a850-44f0-b9de-65c5c96b8f2e"
      },
      "outputs": [],
      "source": [
        "from tensorflow.keras import datasets, layers, models\n",
        "import matplotlib.pyplot as plt\n",
        "import tensorflow as tf\n",
        "\n",
        "import numpy as np\n",
        "\n",
        "import seaborn as sns\n",
        "\n",
        "import pandas as pd\n"
      ]
    },
    {
      "cell_type": "code",
      "execution_count": 3,
      "metadata": {
        "colab": {
          "base_uri": "https://localhost:8080/",
          "height": 35
        },
        "id": "Wickr6O73HpO",
        "outputId": "975caad7-3d81-44ce-f92a-5c38e803b61c"
      },
      "outputs": [
        {
          "data": {
            "text/plain": [
              "'2.18.0'"
            ]
          },
          "execution_count": 3,
          "metadata": {},
          "output_type": "execute_result"
        }
      ],
      "source": [
        "tf.__version__"
      ]
    },
    {
      "cell_type": "code",
      "execution_count": 4,
      "metadata": {
        "id": "Lc4AqLg2saU4"
      },
      "outputs": [],
      "source": [
        "%load_ext tensorboard"
      ]
    },
    {
      "cell_type": "code",
      "execution_count": 5,
      "metadata": {
        "id": "wHY7qcTV2uxR"
      },
      "outputs": [],
      "source": [
        "logdir='log'"
      ]
    },
    {
      "cell_type": "code",
      "execution_count": 6,
      "metadata": {
        "id": "8I41zgjVvF1g"
      },
      "outputs": [],
      "source": [
        "(train_images, train_labels), (test_images, test_labels) = datasets.mnist.load_data()\n",
        "\n",
        "train_images = train_images.reshape((60000, 28, 28, 1))\n",
        "test_images = test_images.reshape((10000, 28, 28, 1))\n",
        "\n",
        "train_images, test_images = train_images / 255.0, test_images / 255.0\n",
        "\n",
        "classes=[0,1,2,3,4,5,6,7,8,9]"
      ]
    },
    {
      "cell_type": "code",
      "execution_count": 7,
      "metadata": {
        "id": "e19fqT7B4QII"
      },
      "outputs": [],
      "source": [
        "tensorboard_callback = tf.keras.callbacks.TensorBoard(logdir, histogram_freq=1)"
      ]
    },
    {
      "cell_type": "markdown",
      "metadata": {},
      "source": [
        "# Define o modelo com menos layers para obter um resultado pior inicialmente:"
      ]
    },
    {
      "cell_type": "code",
      "execution_count": 8,
      "metadata": {
        "colab": {
          "base_uri": "https://localhost:8080/"
        },
        "id": "_eD7E_m39bis",
        "outputId": "41e492ad-5e35-4688-ddca-bb41b71c48fa"
      },
      "outputs": [
        {
          "name": "stderr",
          "output_type": "stream",
          "text": [
            "c:\\Users\\mauri\\Downloads\\DIO\\Projetos\\Jypiter1\\.venv\\Lib\\site-packages\\keras\\src\\layers\\convolutional\\base_conv.py:107: UserWarning: Do not pass an `input_shape`/`input_dim` argument to a layer. When using Sequential models, prefer using an `Input(shape)` object as the first layer in the model instead.\n",
            "  super().__init__(activity_regularizer=activity_regularizer, **kwargs)\n"
          ]
        }
      ],
      "source": [
        "model = models.Sequential()\n",
        "model.add(layers.Conv2D(32, (3, 3), activation='relu', input_shape=(28, 28, 1)))\n",
        "#model.add(layers.MaxPooling2D((2, 2)))\n",
        "#model.add(layers.Conv2D(64, (3, 3), activation='relu'))\n",
        "model.add(layers.MaxPooling2D((2, 2)))\n",
        "model.add(layers.Conv2D(64, (3, 3), activation='relu'))\n",
        "\n",
        "model.add(layers.Flatten())\n",
        "model.add(layers.Dense(64, activation='relu'))\n",
        "model.add(layers.Dense(10, activation='softmax'))\n"
      ]
    },
    {
      "cell_type": "markdown",
      "metadata": {},
      "source": [
        "# Treina o modelo com apenas 1 Epoca para ter uma matriz de confusão mais relevante para os cálculos."
      ]
    },
    {
      "cell_type": "code",
      "execution_count": 9,
      "metadata": {
        "colab": {
          "base_uri": "https://localhost:8080/",
          "height": 1000
        },
        "id": "QOIbCQ3T9bml",
        "outputId": "ddd7126d-c601-4148-95ac-e892f2aebc64"
      },
      "outputs": [
        {
          "name": "stdout",
          "output_type": "stream",
          "text": [
            "\u001b[1m1875/1875\u001b[0m \u001b[32m━━━━━━━━━━━━━━━━━━━━\u001b[0m\u001b[37m\u001b[0m \u001b[1m9s\u001b[0m 5ms/step - accuracy: 0.9197 - loss: 0.2551 - val_accuracy: 0.9833 - val_loss: 0.0507\n"
          ]
        },
        {
          "data": {
            "text/plain": [
              "<keras.src.callbacks.history.History at 0x256ddbe0ef0>"
            ]
          },
          "execution_count": 9,
          "metadata": {},
          "output_type": "execute_result"
        }
      ],
      "source": [
        "model.compile(optimizer='adam',\n",
        "              loss='sparse_categorical_crossentropy',\n",
        "              metrics=['accuracy'])\n",
        "\n",
        "model.fit(x=train_images,\n",
        "            y=train_labels,\n",
        "            epochs=1,\n",
        "            validation_data=(test_images, test_labels))"
      ]
    },
    {
      "cell_type": "code",
      "execution_count": 10,
      "metadata": {
        "id": "SHkdG_lehhMU"
      },
      "outputs": [
        {
          "name": "stdout",
          "output_type": "stream",
          "text": [
            "\u001b[1m313/313\u001b[0m \u001b[32m━━━━━━━━━━━━━━━━━━━━\u001b[0m\u001b[37m\u001b[0m \u001b[1m1s\u001b[0m 2ms/step\n"
          ]
        }
      ],
      "source": [
        "y_true1=test_labels\n",
        "predict_y=model.predict(test_images) \n",
        "y_pred1=np.argmax(predict_y,axis=1)\n",
        "\n",
        "classes=[0,1,2,3,4,5,6,7,8,9]"
      ]
    },
    {
      "cell_type": "markdown",
      "metadata": {},
      "source": [
        "Exibe a Matriz de Confusão e Realiza o Cálculo de Métricas de Avaliação de Aprendizado "
      ]
    },
    {
      "cell_type": "code",
      "execution_count": 79,
      "metadata": {},
      "outputs": [],
      "source": [
        "def avalia_metricas(y_true,y_pred,classes):\n",
        "    matriz_confusao = tf.math.confusion_matrix(labels=y_true, predictions=y_pred).numpy()\n",
        "    con_mat_norm = np.around(matriz_confusao.astype('float') / matriz_confusao.sum(axis=1)[:, np.newaxis], decimals=2)\n",
        "\n",
        "    con_mat_df = pd.DataFrame(con_mat_norm,\n",
        "                        index = classes, \n",
        "                        columns = classes)\n",
        "\n",
        "    figure = plt.figure(figsize=(8, 8))\n",
        "    sns.heatmap(con_mat_df, annot=True,cmap=plt.cm.Blues)\n",
        "    plt.tight_layout()\n",
        "    plt.ylabel('True label')\n",
        "    plt.xlabel('Predicted label')\n",
        "    plt.show()\n",
        "\n",
        "    print(\"Matriz de confusão:\")\n",
        "    print(matriz_confusao)\n",
        "    FN = [0]*10\n",
        "    FP = [0]*10\n",
        "    VN = [0]*10\n",
        "    VP = [0]*10\n",
        "    total_elementos = np.sum(matriz_confusao)\n",
        "    for i in range(matriz_confusao.shape[0]):\n",
        "        for j in range(matriz_confusao.shape[1]):\n",
        "            VN[i] = VN[i] + int(matriz_confusao[i][j])\n",
        "            if i==j:\n",
        "                VP[i] = int(matriz_confusao[i][j])\n",
        "            else: \n",
        "                FN[i] = FN[i] + int(matriz_confusao[i][j])            \n",
        "                FP[j] = FP[j] + int(matriz_confusao[i][j])\n",
        "    for i in range(matriz_confusao.shape[0]):\n",
        "        VN[i] =  int(np.sum(VP) - VP[i] )\n",
        "\n",
        "    print(\"\\n\")\n",
        "    especifi_v = [0]*10\n",
        "    sensibil_v = [0]*10\n",
        "    acuracia_v = [0]*10\n",
        "    precisao_v = [0]*10\n",
        "    fscore_v = [0]*10\n",
        "    clas_str    = \"Classe        : \"\n",
        "    vp_str      = \"Verd.Posit.   : \"\n",
        "    vn_str      = \"Verd.Negat.   : \"\n",
        "    fp_str      = \"Falso Posit.  : \"\n",
        "    fn_str      = \"Falso Negat.  : \"\n",
        "    espf_str    = \"Especificidade: \"\n",
        "    sens_str    = \"Sensibilidade : \"\n",
        "    acur_str    = \"Acurácia      : \"\n",
        "    prec_str    = \"Precisão      : \"\n",
        "    fscr_str    = \"F-score       : \"\n",
        "\n",
        "    for i in classes:\n",
        "        clas_str = clas_str + \" %3d    | \" % i\n",
        "        vp_str = vp_str + \" %6d | \" % VP[i]\n",
        "        vn_str = vn_str + \" %6d | \" % VN[i]\n",
        "        fp_str = fp_str + \" %6d | \" % FP[i]\n",
        "        fn_str = fn_str + \" %6d | \" % FN[i]\n",
        "        \n",
        "        especifi_v[i] = float( VN[i] / (VN[i] + FP[i]))\n",
        "        sensibil_v[i] = float(VP[i] / (VP[i] + FN[i]))\n",
        "        acuracia_v[i] = float((VP[i]+VN[i]) / total_elementos)\n",
        "        precisao_v[i] = float(VP[i] / (VP[i] + FP[i]))\n",
        "        fscore_v[i]   = float (2 * (precisao_v[i]) * (sensibil_v[i]) / float(precisao_v[i] + sensibil_v[i]))\n",
        "\n",
        "        espf_str = espf_str + \" %.4f | \" % especifi_v[i]\n",
        "        sens_str = sens_str + \" %.4f | \" % sensibil_v[i] \n",
        "        acur_str = acur_str + \" %.4f | \" % acuracia_v[i]\n",
        "        prec_str = prec_str + \" %.4f | \" % precisao_v[i]\n",
        "        fscr_str = fscr_str + \" %.4f | \" % fscore_v[i]\n",
        "    \n",
        "    print(clas_str)\n",
        "    print(\"---------------------------------------------------------------------------------------------------------------------\")\n",
        "    print(vp_str)\n",
        "    print(vn_str)\n",
        "    print(fp_str)\n",
        "    print(\"---------------------------------------------------------------------------------------------------------------------\")\n",
        "    print(espf_str)\n",
        "    print(sens_str)\n",
        "    print(acur_str)\n",
        "    print(prec_str)\n",
        "    print(fscr_str)\n",
        "    print(\"\\n\")\n",
        "    verdadeiro_positivo = sum(VP)\n",
        "    # verdadeiro_negativo = sum(VN)\n",
        "    verdadeiro_negativo = sum(VP)\n",
        "    falso_positivo = sum(FP)\n",
        "    falso_negativo = sum(FN)\n",
        "    # sensibilidade = Recall\n",
        "    sensibilidade = verdadeiro_positivo / (verdadeiro_positivo + falso_negativo)\n",
        "    especificidade = verdadeiro_negativo / (falso_positivo + verdadeiro_negativo )      \n",
        "    acuracia = verdadeiro_positivo / total_elementos\n",
        "    precisao = verdadeiro_positivo / (verdadeiro_positivo + falso_positivo)\n",
        "    fscore = 2 * (precisao) * (sensibilidade) / float(precisao + sensibilidade)\n",
        "    print(\"Verdadeiro Positivo: \",verdadeiro_positivo, \" = \",VP)\n",
        "    print(\"Verdadeiro Negativo: \",verdadeiro_negativo, \" = \",VN)\n",
        "    print(\"Falso Positivo     : \",falso_positivo, \" = \",FP)\n",
        "    print(\"Falso Negativo     : \",falso_negativo, \" = \",FN)\n",
        "    print(\"Total de elementos : \",total_elementos)\n",
        "    print(\"\\n\")\n",
        "    print(\"Sensibilidade : %.8f - Média %.8f\" % (sensibilidade , np.mean(sensibil_v)))\n",
        "    print(\"Especificidade: %.8f - Média %.8f\" % (especificidade, np.mean(especifi_v)))\n",
        "    print(\"Acurácia      : %.8f - Média %.8f\" % (acuracia, np.mean(acuracia_v)))\n",
        "    print(\"Precisão      : %.8f - Média %.8f\" % (precisao, np.mean(precisao_v)))\n",
        "    print(\"F-score       : %.8f - Média %.8f\" % (fscore, np.mean(fscore_v)))"
      ]
    },
    {
      "cell_type": "code",
      "execution_count": 80,
      "metadata": {},
      "outputs": [
        {
          "data": {
            "image/png": "[encoded data removed]",
            "text/plain": [
              "<Figure size 800x800 with 2 Axes>"
            ]
          },
          "metadata": {},
          "output_type": "display_data"
        },
        {
          "name": "stdout",
          "output_type": "stream",
          "text": [
            "Matriz de confusão:\n",
            "[[ 972    1    1    0    1    0    3    1    1    0]\n",
            " [   0 1134    0    1    0    0    0    0    0    0]\n",
            " [   0    8 1019    0    0    0    0    5    0    0]\n",
            " [   0    0    1  997    0    5    0    5    2    0]\n",
            " [   0    5    1    0  956    0    1    5    0   14]\n",
            " [   1    0    0    2    0  884    3    0    0    2]\n",
            " [   6    6    0    0    1    2  942    0    1    0]\n",
            " [   0    3    6    2    0    1    0 1014    0    2]\n",
            " [   2   12   14    2    2    2    1    6  926    7]\n",
            " [   0    7    0    3    1    3    0    6    0  989]]\n",
            "\n",
            "\n",
            "Classe        :    0    |    1    |    2    |    3    |    4    |    5    |    6    |    7    |    8    |    9    | \n",
            "---------------------------------------------------------------------------------------------------------------------\n",
            "Verd.Posit.   :     972 |    1134 |    1019 |     997 |     956 |     884 |     942 |    1014 |     926 |     989 | \n",
            "Verd.Negat.   :    8861 |    8699 |    8814 |    8836 |    8877 |    8949 |    8891 |    8819 |    8907 |    8844 | \n",
            "Falso Posit.  :       9 |      42 |      23 |      10 |       5 |      13 |       8 |      28 |       4 |      25 | \n",
            "---------------------------------------------------------------------------------------------------------------------\n",
            "Especificidade:  0.9990 |  0.9952 |  0.9974 |  0.9989 |  0.9994 |  0.9985 |  0.9991 |  0.9968 |  0.9996 |  0.9972 | \n",
            "Sensibilidade :  0.9918 |  0.9991 |  0.9874 |  0.9871 |  0.9735 |  0.9910 |  0.9833 |  0.9864 |  0.9507 |  0.9802 | \n",
            "Acurácia      :  0.9833 |  0.9833 |  0.9833 |  0.9833 |  0.9833 |  0.9833 |  0.9833 |  0.9833 |  0.9833 |  0.9833 | \n",
            "Precisão      :  0.9908 |  0.9643 |  0.9779 |  0.9901 |  0.9948 |  0.9855 |  0.9916 |  0.9731 |  0.9957 |  0.9753 | \n",
            "F-score       :  0.9913 |  0.9814 |  0.9826 |  0.9886 |  0.9840 |  0.9883 |  0.9874 |  0.9797 |  0.9727 |  0.9778 | \n",
            "\n",
            "\n",
            "Verdadeiro Positivo:  9833  =  [972, 1134, 1019, 997, 956, 884, 942, 1014, 926, 989]\n",
            "Verdadeiro Negativo:  9833  =  [8861, 8699, 8814, 8836, 8877, 8949, 8891, 8819, 8907, 8844]\n",
            "Falso Positivo     :  167  =  [9, 42, 23, 10, 5, 13, 8, 28, 4, 25]\n",
            "Falso Negativo     :  167  =  [8, 1, 13, 13, 26, 8, 16, 14, 48, 20]\n",
            "Total de elementos :  10000\n",
            "\n",
            "\n",
            "Sensibilidade : 0.98330000 - Média 0.98306192\n",
            "Especificidade: 0.98330000 - Média 0.99811022\n",
            "Acurácia      : 0.98330000 - Média 0.98330000\n",
            "Precisão      : 0.98330000 - Média 0.98391640\n",
            "F-score       : 0.98330000 - Média 0.98338468\n"
          ]
        }
      ],
      "source": [
        "avalia_metricas(y_true1,y_pred1,classes)"
      ]
    },
    {
      "cell_type": "markdown",
      "metadata": {},
      "source": [
        "---------------------------------------------------------------------------\n",
        "#      REALIZA NOVO TREINAMENTO COM 5 Epocas e reavalia o modelo\n",
        "---------------------------------------------------------------------------"
      ]
    },
    {
      "cell_type": "markdown",
      "metadata": {},
      "source": [
        "Corrige o modelo"
      ]
    },
    {
      "cell_type": "code",
      "execution_count": 82,
      "metadata": {},
      "outputs": [
        {
          "name": "stderr",
          "output_type": "stream",
          "text": [
            "c:\\Users\\mauri\\Downloads\\DIO\\Projetos\\Jypiter1\\.venv\\Lib\\site-packages\\keras\\src\\layers\\convolutional\\base_conv.py:107: UserWarning: Do not pass an `input_shape`/`input_dim` argument to a layer. When using Sequential models, prefer using an `Input(shape)` object as the first layer in the model instead.\n",
            "  super().__init__(activity_regularizer=activity_regularizer, **kwargs)\n"
          ]
        }
      ],
      "source": [
        "model = models.Sequential()\n",
        "model.add(layers.Conv2D(32, (3, 3), activation='relu', input_shape=(28, 28, 1)))\n",
        "model.add(layers.MaxPooling2D((2, 2)))\n",
        "model.add(layers.Conv2D(64, (3, 3), activation='relu'))\n",
        "model.add(layers.MaxPooling2D((2, 2)))\n",
        "model.add(layers.Conv2D(64, (3, 3), activation='relu'))\n",
        "\n",
        "model.add(layers.Flatten())\n",
        "model.add(layers.Dense(64, activation='relu'))\n",
        "model.add(layers.Dense(10, activation='softmax'))\n"
      ]
    },
    {
      "cell_type": "code",
      "execution_count": 83,
      "metadata": {},
      "outputs": [
        {
          "name": "stdout",
          "output_type": "stream",
          "text": [
            "Epoch 1/5\n",
            "\u001b[1m1875/1875\u001b[0m \u001b[32m━━━━━━━━━━━━━━━━━━━━\u001b[0m\u001b[37m\u001b[0m \u001b[1m10s\u001b[0m 4ms/step - accuracy: 0.8927 - loss: 0.3399 - val_accuracy: 0.9809 - val_loss: 0.0626\n",
            "Epoch 2/5\n",
            "\u001b[1m1875/1875\u001b[0m \u001b[32m━━━━━━━━━━━━━━━━━━━━\u001b[0m\u001b[37m\u001b[0m \u001b[1m8s\u001b[0m 4ms/step - accuracy: 0.9845 - loss: 0.0507 - val_accuracy: 0.9858 - val_loss: 0.0417\n",
            "Epoch 3/5\n",
            "\u001b[1m1875/1875\u001b[0m \u001b[32m━━━━━━━━━━━━━━━━━━━━\u001b[0m\u001b[37m\u001b[0m \u001b[1m8s\u001b[0m 4ms/step - accuracy: 0.9888 - loss: 0.0347 - val_accuracy: 0.9912 - val_loss: 0.0256\n",
            "Epoch 4/5\n",
            "\u001b[1m1875/1875\u001b[0m \u001b[32m━━━━━━━━━━━━━━━━━━━━\u001b[0m\u001b[37m\u001b[0m \u001b[1m8s\u001b[0m 4ms/step - accuracy: 0.9920 - loss: 0.0253 - val_accuracy: 0.9911 - val_loss: 0.0286\n",
            "Epoch 5/5\n",
            "\u001b[1m1875/1875\u001b[0m \u001b[32m━━━━━━━━━━━━━━━━━━━━\u001b[0m\u001b[37m\u001b[0m \u001b[1m8s\u001b[0m 4ms/step - accuracy: 0.9947 - loss: 0.0171 - val_accuracy: 0.9912 - val_loss: 0.0267\n"
          ]
        },
        {
          "data": {
            "text/plain": [
              "<keras.src.callbacks.history.History at 0x2568de2d880>"
            ]
          },
          "execution_count": 83,
          "metadata": {},
          "output_type": "execute_result"
        }
      ],
      "source": [
        "model.compile(optimizer='adam',\n",
        "              loss='sparse_categorical_crossentropy',\n",
        "              metrics=['accuracy'])\n",
        "\n",
        "model.fit(x=train_images,\n",
        "            y=train_labels,\n",
        "            epochs=5,\n",
        "            validation_data=(test_images, test_labels))"
      ]
    },
    {
      "cell_type": "code",
      "execution_count": 84,
      "metadata": {},
      "outputs": [
        {
          "name": "stdout",
          "output_type": "stream",
          "text": [
            "\u001b[1m313/313\u001b[0m \u001b[32m━━━━━━━━━━━━━━━━━━━━\u001b[0m\u001b[37m\u001b[0m \u001b[1m1s\u001b[0m 2ms/step\n"
          ]
        }
      ],
      "source": [
        "y_true2=test_labels\n",
        "predict_y=model.predict(test_images) \n",
        "y_pred2=np.argmax(predict_y,axis=1)\n"
      ]
    },
    {
      "cell_type": "code",
      "execution_count": 86,
      "metadata": {},
      "outputs": [
        {
          "data": {
            "image/png": "[encoded data removed]",
            "text/plain": [
              "<Figure size 800x800 with 2 Axes>"
            ]
          },
          "metadata": {},
          "output_type": "display_data"
        },
        {
          "name": "stdout",
          "output_type": "stream",
          "text": [
            "Matriz de confusão:\n",
            "[[ 974    0    2    0    1    0    1    1    0    1]\n",
            " [   0 1130    1    0    0    0    4    0    0    0]\n",
            " [   0    0 1025    0    3    0    0    2    2    0]\n",
            " [   0    0    1 1006    0    2    0    0    1    0]\n",
            " [   0    0    0    0  979    0    1    0    0    2]\n",
            " [   1    0    0    7    0  882    1    1    0    0]\n",
            " [   6    1    0    0    5    3  942    0    1    0]\n",
            " [   0    5    8    1    0    0    0 1010    0    4]\n",
            " [   1    0    1    1    0    0    0    0  970    1]\n",
            " [   0    0    0    0    5    3    0    3    4  994]]\n",
            "\n",
            "\n",
            "Classe        :    0    |    1    |    2    |    3    |    4    |    5    |    6    |    7    |    8    |    9    | \n",
            "---------------------------------------------------------------------------------------------------------------------\n",
            "Verd.Posit.   :     974 |    1130 |    1025 |    1006 |     979 |     882 |     942 |    1010 |     970 |     994 | \n",
            "Verd.Negat.   :    8938 |    8782 |    8887 |    8906 |    8933 |    9030 |    8970 |    8902 |    8942 |    8918 | \n",
            "Falso Posit.  :       8 |       6 |      13 |       9 |      14 |       8 |       7 |       7 |       8 |       8 | \n",
            "---------------------------------------------------------------------------------------------------------------------\n",
            "Especificidade:  0.9991 |  0.9993 |  0.9985 |  0.9990 |  0.9984 |  0.9991 |  0.9992 |  0.9992 |  0.9991 |  0.9991 | \n",
            "Sensibilidade :  0.9939 |  0.9956 |  0.9932 |  0.9960 |  0.9969 |  0.9888 |  0.9833 |  0.9825 |  0.9959 |  0.9851 | \n",
            "Acurácia      :  0.9912 |  0.9912 |  0.9912 |  0.9912 |  0.9912 |  0.9912 |  0.9912 |  0.9912 |  0.9912 |  0.9912 | \n",
            "Precisão      :  0.9919 |  0.9947 |  0.9875 |  0.9911 |  0.9859 |  0.9910 |  0.9926 |  0.9931 |  0.9918 |  0.9920 | \n",
            "F-score       :  0.9929 |  0.9952 |  0.9903 |  0.9936 |  0.9914 |  0.9899 |  0.9879 |  0.9878 |  0.9939 |  0.9886 | \n",
            "\n",
            "\n",
            "Verdadeiro Positivo:  9912  =  [974, 1130, 1025, 1006, 979, 882, 942, 1010, 970, 994]\n",
            "Verdadeiro Negativo:  9912  =  [8938, 8782, 8887, 8906, 8933, 9030, 8970, 8902, 8942, 8918]\n",
            "Falso Positivo     :  88  =  [8, 6, 13, 9, 14, 8, 7, 7, 8, 8]\n",
            "Falso Negativo     :  88  =  [6, 5, 7, 4, 3, 10, 16, 18, 4, 15]\n",
            "Total de elementos :  10000\n",
            "\n",
            "\n",
            "Sensibilidade : 0.99120000 - Média 0.99112790\n",
            "Especificidade: 0.99120000 - Média 0.99901473\n",
            "Acurácia      : 0.99120000 - Média 0.99120000\n",
            "Precisão      : 0.99120000 - Média 0.99116700\n",
            "F-score       : 0.99120000 - Média 0.99113601\n"
          ]
        }
      ],
      "source": [
        "avalia_metricas(y_true2,y_pred2,classes)"
      ]
    },
    {
      "cell_type": "markdown",
      "metadata": {},
      "source": [
        "======================================================================================================="
      ]
    }
  ],
  "metadata": {
    "accelerator": "TPU",
    "colab": {
      "gpuType": "V28",
      "provenance": []
    },
    "kernelspec": {
      "display_name": "myproject_kernel",
      "language": "python",
      "name": "myproject_kernel"
    },
    "language_info": {
      "codemirror_mode": {
        "name": "ipython",
        "version": 3
      },
      "file_extension": ".py",
      "mimetype": "text/x-python",
      "name": "python",
      "nbconvert_exporter": "python",
      "pygments_lexer": "ipython3",
      "version": "3.12.6"
    }
  },
  "nbformat": 4,
  "nbformat_minor": 0
}
